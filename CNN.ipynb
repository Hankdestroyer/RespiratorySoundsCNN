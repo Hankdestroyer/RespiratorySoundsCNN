{
 "cells": [
  {
   "cell_type": "code",
   "execution_count": null,
   "id": "0aad8c62",
   "metadata": {
    "colab": {
     "base_uri": "https://localhost:8080/"
    },
    "id": "tEu99-wHOvDi",
    "outputId": "4b048128-fbe5-42bc-91be-76538be36655"
   },
   "outputs": [],
   "source": [
    "from google.colab import drive\n",
    "drive.mount('/content/drive')"
   ]
  },
  {
   "cell_type": "code",
   "execution_count": null,
   "id": "9ff244c9",
   "metadata": {
    "colab": {
     "base_uri": "https://localhost:8080/"
    },
    "id": "37d0cc80",
    "outputId": "1c628543-5ad9-4ed2-c123-3143009fda86"
   },
   "outputs": [],
   "source": [
    "import tensorflow as tf\n",
    "\n",
    "physical_devices = tf.config.list_physical_devices('GPU')\n",
    "if len(physical_devices) > 0:\n",
    "    print('GPU device found:')\n",
    "    for device in physical_devices:\n",
    "        print(device)\n",
    "else:\n",
    "    print('No GPU devices found.')"
   ]
  },
  {
   "cell_type": "code",
   "execution_count": null,
   "id": "8528ee9a",
   "metadata": {
    "id": "70d52477"
   },
   "outputs": [],
   "source": [
    "for device in physical_devices:\n",
    "    tf.config.experimental.set_memory_growth(device, True)"
   ]
  },
  {
   "cell_type": "code",
   "execution_count": null,
   "id": "0d87e42a",
   "metadata": {
    "colab": {
     "base_uri": "https://localhost:8080/"
    },
    "id": "bbb8b128",
    "outputId": "95676ee0-9863-4da3-cc34-c9b51e7fe3e4"
   },
   "outputs": [],
   "source": [
    "with tf.device('/GPU:0'):\n",
    "    import tensorflow as tf\n",
    "\n",
    "    policy = tf.keras.mixed_precision.Policy('mixed_float16')\n",
    "    tf.keras.mixed_precision.set_global_policy(policy)\n",
    "\n",
    "    # Set the path to your dataset directory\n",
    "    dataset_dir = '/content/drive/MyDrive/Files/Spectrograms_Frequency'\n",
    "\n",
    "    # Define the image dimensions and batch size\n",
    "    image_size = (558, 217)\n",
    "    batch_size = 32\n",
    "\n",
    "    # Load the dataset using image_dataset_from_directory\n",
    "    train_dataset = tf.keras.preprocessing.image_dataset_from_directory(\n",
    "        dataset_dir,\n",
    "        validation_split=0.2,\n",
    "        subset='training',\n",
    "        seed=42,\n",
    "        image_size=image_size,\n",
    "        batch_size=batch_size,\n",
    "        color_mode='rgb'\n",
    "    )\n",
    "\n",
    "    validation_dataset = tf.keras.preprocessing.image_dataset_from_directory(\n",
    "        dataset_dir,\n",
    "        validation_split=0.2,\n",
    "        subset='validation',\n",
    "        seed=42,\n",
    "        image_size=image_size,\n",
    "        batch_size=batch_size,\n",
    "        color_mode='rgb'\n",
    "    )\n",
    "\n",
    "    # Print class names\n",
    "    class_names = train_dataset.class_names\n",
    "    print(\"Class names:\", class_names)\n",
    "\n",
    "    # Normalize pixel values and configure dataset for performance\n",
    "    AUTOTUNE = tf.data.AUTOTUNE\n",
    "    train_dataset = train_dataset.prefetch(buffer_size=AUTOTUNE)\n",
    "    validation_dataset = validation_dataset.prefetch(buffer_size=AUTOTUNE)\n",
    "    train_dataset = train_dataset.map(lambda x, y: (x / 255.0, y))  # Normalize pixel values to [0, 1]\n",
    "    validation_dataset = validation_dataset.map(lambda x, y: (x / 255.0, y))\n",
    "\n",
    "    # Define the model architecture\n",
    "    model = tf.keras.Sequential([\n",
    "        tf.keras.layers.Conv2D(32, (3, 3), activation='relu', input_shape=(image_size[0], image_size[1], 3)),\n",
    "        tf.keras.layers.MaxPooling2D((2, 2)),\n",
    "        tf.keras.layers.Conv2D(64, (3, 3), activation='relu'),\n",
    "        tf.keras.layers.MaxPooling2D((2, 2)),\n",
    "        tf.keras.layers.Flatten(),\n",
    "        tf.keras.layers.Dense(64, activation='relu'),\n",
    "        tf.keras.layers.Dense(len(class_names), activation='softmax')\n",
    "    ])\n",
    "\n",
    "    # Compile the model\n",
    "    model.compile(optimizer='adam',\n",
    "                  loss=tf.keras.losses.SparseCategoricalCrossentropy(),\n",
    "                  metrics=['accuracy'])\n",
    "\n",
    "    # Print the model summary\n",
    "    model.summary()"
   ]
  },
  {
   "cell_type": "code",
   "execution_count": null,
   "id": "0fe790d8",
   "metadata": {
    "colab": {
     "base_uri": "https://localhost:8080/"
    },
    "id": "662e1f71",
    "outputId": "2aa63107-77ba-4e04-813a-a16fba871419"
   },
   "outputs": [],
   "source": [
    "with tf.device('/GPU:0'):\n",
    "\n",
    "    # Train the model\n",
    "    history = model.fit(train_dataset, validation_data=validation_dataset, epochs=80)\n",
    "\n",
    "    # Evaluate the model\n",
    "    loss, accuracy = model.evaluate(validation_dataset)\n",
    "    print(\"Validation loss:\", loss)\n",
    "    print(\"Validation accuracy:\", accuracy)"
   ]
  },
  {
   "cell_type": "code",
   "execution_count": null,
   "id": "4c67eaa0",
   "metadata": {
    "colab": {
     "base_uri": "https://localhost:8080/",
     "height": 487
    },
    "id": "cd75a84a",
    "outputId": "1709227a-6493-4273-d227-469f921c7ba7"
   },
   "outputs": [],
   "source": [
    "import numpy as np\n",
    "import matplotlib.pyplot as plt\n",
    "# model training plots\n",
    "epochs = np.arange(1,11)\n",
    "plt.subplot(1,2,1)\n",
    "plt.plot(epochs,history.history['loss'],color='r')\n",
    "plt.title('Model loss (sparse categorical crossentropy)')\n",
    "plt.xlabel('Epochs')\n",
    "plt.ylabel('Loss')\n",
    "plt.tight_layout()\n",
    "plt.subplot(1,2,2)\n",
    "plt.plot(epochs,history.history['accuracy'],color='g')\n",
    "plt.title('Model Accuracy')\n",
    "plt.xlabel('Epochs')\n",
    "plt.ylabel('Accuracy')\n",
    "plt.tight_layout()\n",
    "plt.show()"
   ]
  },
  {
   "cell_type": "code",
   "execution_count": null,
   "id": "97da5869",
   "metadata": {
    "id": "5e9b7291"
   },
   "outputs": [],
   "source": [
    "# Save the trained model\n",
    "# model.save('./Models\\Basic_CNN')"
   ]
  },
  {
   "cell_type": "code",
   "execution_count": null,
   "id": "42617c27",
   "metadata": {},
   "outputs": [],
   "source": [
    "tf.config.experimental.clear_memory()"
   ]
  },
  {
   "cell_type": "code",
   "execution_count": null,
   "id": "c9eee096",
   "metadata": {},
   "outputs": [],
   "source": []
  }
 ],
 "metadata": {
  "accelerator": "GPU",
  "colab": {
   "gpuType": "T4",
   "provenance": []
  },
  "kernelspec": {
   "display_name": "Python 3",
   "language": "python",
   "name": "python3"
  },
  "language_info": {
   "codemirror_mode": {
    "name": "ipython",
    "version": 3
   },
   "file_extension": ".py",
   "mimetype": "text/x-python",
   "name": "python",
   "nbconvert_exporter": "python",
   "pygments_lexer": "ipython3",
   "version": "3.8.5"
  }
 },
 "nbformat": 4,
 "nbformat_minor": 5
}
