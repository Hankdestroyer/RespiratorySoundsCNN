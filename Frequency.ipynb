{
 "cells": [
  {
   "cell_type": "code",
   "execution_count": 1,
   "id": "babbaaa9",
   "metadata": {},
   "outputs": [
    {
     "name": "stderr",
     "output_type": "stream",
     "text": [
      "A:\\Programas\\anaconda\\lib\\site-packages\\pydub\\utils.py:170: RuntimeWarning: Couldn't find ffmpeg or avconv - defaulting to ffmpeg, but may not work\n",
      "  warn(\"Couldn't find ffmpeg or avconv - defaulting to ffmpeg, but may not work\", RuntimeWarning)\n"
     ]
    },
    {
     "name": "stdout",
     "output_type": "stream",
     "text": [
      "Proceso completado.\n"
     ]
    }
   ],
   "source": [
    "from pydub import AudioSegment\n",
    "import os\n",
    "\n",
    "# Ruta de la carpeta de entrada y salida\n",
    "carpeta_entrada = './audio_and_txt_files'\n",
    "carpeta_salida = './Frequency'\n",
    "\n",
    "# Frecuencia de muestreo deseada (4000 Hz)\n",
    "nueva_frecuencia = 4000\n",
    "\n",
    "# Lista para almacenar los nombres de los archivos\n",
    "archivos_wav = [archivo for archivo in os.listdir(carpeta_entrada) if archivo.endswith('.wav')]\n",
    "\n",
    "# Procesar cada archivo\n",
    "for archivo in archivos_wav:\n",
    "    ruta_entrada = os.path.join(carpeta_entrada, archivo)\n",
    "    ruta_salida = os.path.join(carpeta_salida, archivo)\n",
    "    \n",
    "    # Cargar el archivo de entrada\n",
    "    audio = AudioSegment.from_wav(ruta_entrada)\n",
    "    \n",
    "    # Cambiar la frecuencia de muestreo\n",
    "    audio = audio.set_frame_rate(nueva_frecuencia)\n",
    "    \n",
    "    # Guardar el archivo procesado en la carpeta de salida\n",
    "    audio.export(ruta_salida, format='wav')\n",
    "\n",
    "print(\"Proceso completado.\")\n"
   ]
  },
  {
   "cell_type": "code",
   "execution_count": null,
   "id": "38190245",
   "metadata": {},
   "outputs": [],
   "source": []
  }
 ],
 "metadata": {
  "kernelspec": {
   "display_name": "Python 3",
   "language": "python",
   "name": "python3"
  },
  "language_info": {
   "codemirror_mode": {
    "name": "ipython",
    "version": 3
   },
   "file_extension": ".py",
   "mimetype": "text/x-python",
   "name": "python",
   "nbconvert_exporter": "python",
   "pygments_lexer": "ipython3",
   "version": "3.8.5"
  }
 },
 "nbformat": 4,
 "nbformat_minor": 5
}
