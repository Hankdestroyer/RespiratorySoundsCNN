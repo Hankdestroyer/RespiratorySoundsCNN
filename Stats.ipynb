{
 "cells": [
  {
   "cell_type": "code",
   "execution_count": 2,
   "id": "8a7e81f5",
   "metadata": {},
   "outputs": [
    {
     "name": "stdout",
     "output_type": "stream",
     "text": [
      "Resultados del análisis:\n",
      "Total de ciclos: 6898\n",
      "Promedio de longitud de ciclos: 2.701\n",
      "Longitud máxima de ciclo: 16.163 (Archivo: 166_1p1_Al_sc_Meditron.txt)\n",
      "Longitud mínima de ciclo: 0.200 (Archivo: 217_1b1_Tc_sc_Meditron.txt)\n",
      "Tipos de ciclos:\n",
      "normal: 3642\n",
      "crackle: 1864\n",
      "wheeze: 886\n",
      "crackle & wheeze: 506\n"
     ]
    }
   ],
   "source": [
    "import os\n",
    "\n",
    "# Directorio donde se encuentran los archivos\n",
    "directorio = './audio_and_txt_files'\n",
    "\n",
    "# Inicializar variables para el análisis\n",
    "total_ciclos = 0\n",
    "total_longitud = 0\n",
    "max_longitud = float('-inf')\n",
    "min_longitud = float('inf')\n",
    "archivo_max_longitud = \"\"\n",
    "archivo_min_longitud = \"\"\n",
    "tipos = {'normal': 0, 'crackle': 0, 'wheeze': 0, 'crackle & wheeze': 0}\n",
    "\n",
    "# Recorrer los archivos en el directorio\n",
    "for filename in os.listdir(directorio):\n",
    "    if filename.endswith('.txt'):\n",
    "        txt_path = os.path.join(directorio, filename)\n",
    "        \n",
    "        with open(txt_path, 'r') as txt_file:\n",
    "            lines = txt_file.readlines()\n",
    "            for line in lines:\n",
    "                values = line.strip().split('\\t')\n",
    "                inicio = float(values[0])\n",
    "                fin = float(values[1])\n",
    "                longitud = fin - inicio\n",
    "                tipo_crackle = int(values[2])\n",
    "                tipo_wheeze = int(values[3])\n",
    "                \n",
    "                # Actualizar estadísticas\n",
    "                total_ciclos += 1\n",
    "                total_longitud += longitud\n",
    "                if longitud > max_longitud:\n",
    "                    max_longitud = longitud\n",
    "                    archivo_max_longitud = filename\n",
    "                if longitud < min_longitud:\n",
    "                    min_longitud = longitud\n",
    "                    archivo_min_longitud = filename\n",
    "                if tipo_crackle == 1 and tipo_wheeze == 1:\n",
    "                    tipos['crackle & wheeze'] += 1\n",
    "                elif tipo_crackle == 1:\n",
    "                    tipos['crackle'] += 1\n",
    "                elif tipo_wheeze == 1:\n",
    "                    tipos['wheeze'] += 1\n",
    "                else:\n",
    "                    tipos['normal'] += 1\n",
    "\n",
    "# Calcular promedio de longitud\n",
    "promedio_longitud = total_longitud / total_ciclos\n",
    "\n",
    "# Imprimir resultados\n",
    "print(\"Resultados del análisis:\")\n",
    "print(f\"Total de ciclos: {total_ciclos}\")\n",
    "print(f\"Promedio de longitud de ciclos: {promedio_longitud:.3f}\")\n",
    "print(f\"Longitud máxima de ciclo: {max_longitud:.3f} (Archivo: {archivo_max_longitud})\")\n",
    "print(f\"Longitud mínima de ciclo: {min_longitud:.3f} (Archivo: {archivo_min_longitud})\")\n",
    "print(\"Tipos de ciclos:\")\n",
    "for tipo, cantidad in tipos.items():\n",
    "    print(f\"{tipo}: {cantidad}\")\n"
   ]
  },
  {
   "cell_type": "code",
   "execution_count": null,
   "id": "69558098",
   "metadata": {},
   "outputs": [],
   "source": []
  }
 ],
 "metadata": {
  "kernelspec": {
   "display_name": "Python 3",
   "language": "python",
   "name": "python3"
  },
  "language_info": {
   "codemirror_mode": {
    "name": "ipython",
    "version": 3
   },
   "file_extension": ".py",
   "mimetype": "text/x-python",
   "name": "python",
   "nbconvert_exporter": "python",
   "pygments_lexer": "ipython3",
   "version": "3.8.5"
  }
 },
 "nbformat": 4,
 "nbformat_minor": 5
}
